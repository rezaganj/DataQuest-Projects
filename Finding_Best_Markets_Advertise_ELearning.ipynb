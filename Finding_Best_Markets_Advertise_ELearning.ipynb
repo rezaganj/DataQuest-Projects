{
 "cells": [
  {
   "cell_type": "markdown",
   "metadata": {
    "collapsed": true
   },
   "source": [
    "Finding the Two Best Markets to Advertise in an E-learning Product"
   ]
  },
  {
   "cell_type": "code",
   "execution_count": 76,
   "metadata": {},
   "outputs": [
    {
     "name": "stdout",
     "output_type": "stream",
     "text": [
      "(18175, 136)\n",
      "    Age  AttendedBootcamp  BootcampFinish  BootcampLoanYesNo BootcampName  \\\n",
      "0  27.0               0.0             NaN                NaN          NaN   \n",
      "1  34.0               0.0             NaN                NaN          NaN   \n",
      "2  21.0               0.0             NaN                NaN          NaN   \n",
      "3  26.0               0.0             NaN                NaN          NaN   \n",
      "4  20.0               0.0             NaN                NaN          NaN   \n",
      "\n",
      "   BootcampRecommend  ChildrenNumber                 CityPopulation  \\\n",
      "0                NaN             NaN            more than 1 million   \n",
      "1                NaN             NaN              less than 100,000   \n",
      "2                NaN             NaN            more than 1 million   \n",
      "3                NaN             NaN  between 100,000 and 1 million   \n",
      "4                NaN             NaN  between 100,000 and 1 million   \n",
      "\n",
      "   CodeEventConferences  CodeEventDjangoGirls         ...           \\\n",
      "0                   NaN                   NaN         ...            \n",
      "1                   NaN                   NaN         ...            \n",
      "2                   NaN                   NaN         ...            \n",
      "3                   NaN                   NaN         ...            \n",
      "4                   NaN                   NaN         ...            \n",
      "\n",
      "   YouTubeFCC  YouTubeFunFunFunction  YouTubeGoogleDev  YouTubeLearnCode  \\\n",
      "0         NaN                    NaN               NaN               NaN   \n",
      "1         1.0                    NaN               NaN               NaN   \n",
      "2         NaN                    NaN               NaN               1.0   \n",
      "3         1.0                    1.0               NaN               NaN   \n",
      "4         NaN                    NaN               NaN               NaN   \n",
      "\n",
      "   YouTubeLevelUpTuts  YouTubeMIT  YouTubeMozillaHacks YouTubeOther  \\\n",
      "0                 NaN         NaN                  NaN          NaN   \n",
      "1                 NaN         NaN                  NaN          NaN   \n",
      "2                 1.0         NaN                  NaN          NaN   \n",
      "3                 1.0         NaN                  NaN          NaN   \n",
      "4                 NaN         NaN                  NaN          NaN   \n",
      "\n",
      "   YouTubeSimplilearn  YouTubeTheNewBoston  \n",
      "0                 NaN                  NaN  \n",
      "1                 NaN                  NaN  \n",
      "2                 NaN                  NaN  \n",
      "3                 NaN                  NaN  \n",
      "4                 NaN                  NaN  \n",
      "\n",
      "[5 rows x 136 columns]\n"
     ]
    },
    {
     "name": "stderr",
     "output_type": "stream",
     "text": [
      "/dataquest/system/env/python3/lib/python3.4/site-packages/IPython/core/interactiveshell.py:2723: DtypeWarning: Columns (17,62) have mixed types. Specify dtype option on import or set low_memory=False.\n",
      "  interactivity=interactivity, compiler=compiler, result=result)\n"
     ]
    }
   ],
   "source": [
    "import pandas as pd\n",
    "survey = pd.read_csv('2017-fCC-New-Coders-Survey-Data.csv')\n",
    "print(survey.shape)\n",
    "print(survey.head())"
   ]
  },
  {
   "cell_type": "code",
   "execution_count": 77,
   "metadata": {},
   "outputs": [
    {
     "data": {
      "text/plain": [
       "Full-Stack Web Developer                                                                                                                                                        0.117706\n",
       "  Front-End Web Developer                                                                                                                                                       0.064359\n",
       "  Data Scientist                                                                                                                                                                0.021739\n",
       "Back-End Web Developer                                                                                                                                                          0.020309\n",
       "  Mobile Developer                                                                                                                                                              0.016733\n",
       "Game Developer                                                                                                                                                                  0.016304\n",
       "Information Security                                                                                                                                                            0.013158\n",
       "Full-Stack Web Developer,   Front-End Web Developer                                                                                                                             0.009153\n",
       "  Front-End Web Developer, Full-Stack Web Developer                                                                                                                             0.008009\n",
       "  Product Manager                                                                                                                                                               0.007866\n",
       "Data Engineer                                                                                                                                                                   0.007580\n",
       "  User Experience Designer                                                                                                                                                      0.007437\n",
       "  User Experience Designer,   Front-End Web Developer                                                                                                                           0.006150\n",
       "  Front-End Web Developer, Back-End Web Developer, Full-Stack Web Developer                                                                                                     0.005578\n",
       "  DevOps / SysAdmin                                                                                                                                                             0.005149\n",
       "Back-End Web Developer, Full-Stack Web Developer,   Front-End Web Developer                                                                                                     0.005149\n",
       "Back-End Web Developer,   Front-End Web Developer, Full-Stack Web Developer                                                                                                     0.005149\n",
       "Full-Stack Web Developer,   Front-End Web Developer, Back-End Web Developer                                                                                                     0.004434\n",
       "  Front-End Web Developer, Full-Stack Web Developer, Back-End Web Developer                                                                                                     0.004291\n",
       "Full-Stack Web Developer,   Mobile Developer                                                                                                                                    0.004148\n",
       "  Front-End Web Developer,   User Experience Designer                                                                                                                           0.004148\n",
       "Back-End Web Developer, Full-Stack Web Developer                                                                                                                                0.003862\n",
       "Full-Stack Web Developer, Back-End Web Developer                                                                                                                                0.003719\n",
       "Back-End Web Developer,   Front-End Web Developer                                                                                                                               0.002860\n",
       "Data Engineer,   Data Scientist                                                                                                                                                 0.002717\n",
       "Full-Stack Web Developer, Back-End Web Developer,   Front-End Web Developer                                                                                                     0.002717\n",
       "  Front-End Web Developer,   Mobile Developer                                                                                                                                   0.002574\n",
       "Full-Stack Web Developer,   Data Scientist                                                                                                                                      0.002431\n",
       "  Data Scientist, Data Engineer                                                                                                                                                 0.002288\n",
       "  Mobile Developer, Game Developer                                                                                                                                              0.002288\n",
       "                                                                                                                                                                                  ...   \n",
       "  Front-End Web Developer, Data Engineer, Full-Stack Web Developer, Back-End Web Developer, Information Security,   User Experience Designer                                    0.000143\n",
       "  Front-End Web Developer, Back-End Web Developer,   Mobile Developer, Full-Stack Web Developer,   DevOps / SysAdmin                                                            0.000143\n",
       "  Data Scientist,   Mobile Developer, Full-Stack Web Developer, Data Engineer,   Front-End Web Developer, Back-End Web Developer                                                0.000143\n",
       "  Product Manager,   Mobile Developer, Game Developer, Back-End Web Developer,   Front-End Web Developer                                                                        0.000143\n",
       "Back-End Web Developer,   Mobile Developer, Game Developer,   Front-End Web Developer,   User Experience Designer, Full-Stack Web Developer                                     0.000143\n",
       "Back-End Web Developer, Data Engineer, Full-Stack Web Developer,   DevOps / SysAdmin,   Product Manager                                                                         0.000143\n",
       "  Mobile Developer, Full-Stack Web Developer, Game Developer,   User Experience Designer, Back-End Web Developer,   Front-End Web Developer                                     0.000143\n",
       "Back-End Web Developer,   User Experience Designer, Data Engineer,   Data Scientist, Full-Stack Web Developer                                                                   0.000143\n",
       "Full-Stack Web Developer, Back-End Web Developer,   Front-End Web Developer, Game Developer,   User Experience Designer                                                         0.000143\n",
       "  DevOps / SysAdmin,   Mobile Developer, Information Security, Data Engineer,   Data Scientist, Back-End Web Developer                                                          0.000143\n",
       "Full-Stack Web Developer,   Product Manager,   User Experience Designer,   Front-End Web Developer,   Mobile Developer                                                          0.000143\n",
       "Data Engineer,   Data Scientist,   DevOps / SysAdmin, Information Security, Back-End Web Developer, Full-Stack Web Developer,   Mobile Developer                                0.000143\n",
       "Back-End Web Developer,   Mobile Developer,   Data Scientist, Full-Stack Web Developer                                                                                          0.000143\n",
       "  Quality Assurance Engineer,   Product Manager,   Mobile Developer, Information Security,   Data Scientist                                                                     0.000143\n",
       "Game Developer, Data Engineer, Back-End Web Developer, Full-Stack Web Developer,   Front-End Web Developer,   User Experience Designer,   Data Scientist                        0.000143\n",
       "  Front-End Web Developer,   Data Scientist, Back-End Web Developer, Full-Stack Web Developer                                                                                   0.000143\n",
       "  DevOps / SysAdmin, Full-Stack Web Developer, Information Security,   Front-End Web Developer                                                                                  0.000143\n",
       "  User Experience Designer, Game Developer, Full-Stack Web Developer,   Mobile Developer, Back-End Web Developer,   Front-End Web Developer                                     0.000143\n",
       "  Data Scientist, Full-Stack Web Developer,   Front-End Web Developer,   Product Manager, Game Developer                                                                        0.000143\n",
       "Back-End Web Developer,   Mobile Developer, Full-Stack Web Developer,   Front-End Web Developer, Data Engineer                                                                  0.000143\n",
       "  Data Scientist, Information Security, Full-Stack Web Developer, Data Engineer                                                                                                 0.000143\n",
       "  Front-End Web Developer, Full-Stack Web Developer, Data Engineer,   Mobile Developer, Game Developer, Back-End Web Developer,   Data Scientist,   User Experience Designer    0.000143\n",
       "  DevOps / SysAdmin, Full-Stack Web Developer, Data Engineer,   Data Scientist, Information Security                                                                            0.000143\n",
       "  Mobile Developer,   User Experience Designer, Data Engineer, Back-End Web Developer,   Data Scientist,   Front-End Web Developer, Full-Stack Web Developer                    0.000143\n",
       "Information Security, Data Engineer,   Data Scientist, Game Developer,   DevOps / SysAdmin                                                                                      0.000143\n",
       "Game Developer,   Product Manager, Data Engineer,   Data Scientist,   Quality Assurance Engineer, Artificial Intelligence Engineer                                              0.000143\n",
       "Information Security,   DevOps / SysAdmin,   User Experience Designer,   Mobile Developer, Full-Stack Web Developer, Back-End Web Developer                                     0.000143\n",
       "Game Developer,   User Experience Designer,   Front-End Web Developer,   Mobile Developer, Full-Stack Web Developer                                                             0.000143\n",
       "  Data Scientist, Data Engineer, Back-End Web Developer, Information Security                                                                                                   0.000143\n",
       "  User Experience Designer, Data Engineer,   Front-End Web Developer,   Data Scientist,   Product Manager, Full-Stack Web Developer, Information Security                       0.000143\n",
       "Name: JobRoleInterest, Length: 3213, dtype: float64"
      ]
     },
     "execution_count": 77,
     "metadata": {},
     "output_type": "execute_result"
    }
   ],
   "source": [
    "survey['JobRoleInterest'].value_counts(normalize = True)"
   ]
  },
  {
   "cell_type": "code",
   "execution_count": 78,
   "metadata": {},
   "outputs": [
    {
     "data": {
      "text/plain": [
       "1     0.316505\n",
       "2     0.108839\n",
       "3     0.158896\n",
       "4     0.152174\n",
       "5     0.120423\n",
       "6     0.067220\n",
       "7     0.038616\n",
       "8     0.017592\n",
       "9     0.009868\n",
       "10    0.004720\n",
       "11    0.001859\n",
       "12    0.003003\n",
       "13    0.000286\n",
       "Name: JobRoleInterest, dtype: float64"
      ]
     },
     "execution_count": 78,
     "metadata": {},
     "output_type": "execute_result"
    }
   ],
   "source": [
    "Job_interests = survey['JobRoleInterest'].dropna()\n",
    "Splitted_job_interests = Job_interests.str.split(',')\n",
    "Number_of_options = Splitted_job_interests.apply(lambda x: len(x))\n",
    "Number_of_options.value_counts(normalize = True).sort_index()"
   ]
  },
  {
   "cell_type": "code",
   "execution_count": 79,
   "metadata": {},
   "outputs": [],
   "source": [
    "Web_Mobile = Job_interests.str.contains('Web Developer|Mobile Developer')\n",
    "Web_Mobile_freq = Web_Mobile.value_counts(normalize = True)"
   ]
  },
  {
   "cell_type": "code",
   "execution_count": 80,
   "metadata": {},
   "outputs": [
    {
     "data": {
      "text/plain": [
       "([<matplotlib.axis.XTick at 0x7f90bb9e86d8>,\n",
       "  <matplotlib.axis.XTick at 0x7f90bbb8e358>],\n",
       " <a list of 2 Text xticklabel objects>)"
      ]
     },
     "execution_count": 80,
     "metadata": {},
     "output_type": "execute_result"
    },
    {
     "data": {
      "image/png": "[encoded data removed]",
      "text/plain": [
       "<matplotlib.figure.Figure at 0x7f90bbb8e9e8>"
      ]
     },
     "metadata": {},
     "output_type": "display_data"
    }
   ],
   "source": [
    "%matplotlib inline\n",
    "import matplotlib.pyplot as plt\n",
    "plt.style.use('fivethirtyeight')\n",
    "Web_Mobile_freq.plot.bar()\n",
    "plt.title('Interest in Web and Mobile Development', y=1.1)\n",
    "plt.ylabel('Percentage')\n",
    "plt.ylim((0,1))\n",
    "plt.xticks([0,1],['Web and Mobile Development', 'Others'], rotation=0, y=-0.1)"
   ]
  },
  {
   "cell_type": "code",
   "execution_count": 81,
   "metadata": {},
   "outputs": [
    {
     "data": {
      "text/html": [
       "<div>\n",
       "<style scoped>\n",
       "    .dataframe tbody tr th:only-of-type {\n",
       "        vertical-align: middle;\n",
       "    }\n",
       "\n",
       "    .dataframe tbody tr th {\n",
       "        vertical-align: top;\n",
       "    }\n",
       "\n",
       "    .dataframe thead th {\n",
       "        text-align: right;\n",
       "    }\n",
       "</style>\n",
       "<table border=\"1\" class=\"dataframe\">\n",
       "  <thead>\n",
       "    <tr style=\"text-align: right;\">\n",
       "      <th></th>\n",
       "      <th>absolute frequency</th>\n",
       "      <th>relative frequency</th>\n",
       "    </tr>\n",
       "  </thead>\n",
       "  <tbody>\n",
       "    <tr>\n",
       "      <th>United States of America</th>\n",
       "      <td>3125</td>\n",
       "      <td>0.457005</td>\n",
       "    </tr>\n",
       "    <tr>\n",
       "      <th>India</th>\n",
       "      <td>528</td>\n",
       "      <td>0.077216</td>\n",
       "    </tr>\n",
       "    <tr>\n",
       "      <th>United Kingdom</th>\n",
       "      <td>315</td>\n",
       "      <td>0.046066</td>\n",
       "    </tr>\n",
       "    <tr>\n",
       "      <th>Canada</th>\n",
       "      <td>260</td>\n",
       "      <td>0.038023</td>\n",
       "    </tr>\n",
       "    <tr>\n",
       "      <th>Poland</th>\n",
       "      <td>131</td>\n",
       "      <td>0.019158</td>\n",
       "    </tr>\n",
       "    <tr>\n",
       "      <th>Brazil</th>\n",
       "      <td>129</td>\n",
       "      <td>0.018865</td>\n",
       "    </tr>\n",
       "    <tr>\n",
       "      <th>Germany</th>\n",
       "      <td>125</td>\n",
       "      <td>0.018280</td>\n",
       "    </tr>\n",
       "    <tr>\n",
       "      <th>Australia</th>\n",
       "      <td>112</td>\n",
       "      <td>0.016379</td>\n",
       "    </tr>\n",
       "    <tr>\n",
       "      <th>Russia</th>\n",
       "      <td>102</td>\n",
       "      <td>0.014917</td>\n",
       "    </tr>\n",
       "    <tr>\n",
       "      <th>Ukraine</th>\n",
       "      <td>89</td>\n",
       "      <td>0.013016</td>\n",
       "    </tr>\n",
       "    <tr>\n",
       "      <th>Nigeria</th>\n",
       "      <td>84</td>\n",
       "      <td>0.012284</td>\n",
       "    </tr>\n",
       "    <tr>\n",
       "      <th>Spain</th>\n",
       "      <td>77</td>\n",
       "      <td>0.011261</td>\n",
       "    </tr>\n",
       "    <tr>\n",
       "      <th>France</th>\n",
       "      <td>75</td>\n",
       "      <td>0.010968</td>\n",
       "    </tr>\n",
       "    <tr>\n",
       "      <th>Romania</th>\n",
       "      <td>71</td>\n",
       "      <td>0.010383</td>\n",
       "    </tr>\n",
       "    <tr>\n",
       "      <th>Netherlands (Holland, Europe)</th>\n",
       "      <td>65</td>\n",
       "      <td>0.009506</td>\n",
       "    </tr>\n",
       "    <tr>\n",
       "      <th>Italy</th>\n",
       "      <td>62</td>\n",
       "      <td>0.009067</td>\n",
       "    </tr>\n",
       "    <tr>\n",
       "      <th>Serbia</th>\n",
       "      <td>52</td>\n",
       "      <td>0.007605</td>\n",
       "    </tr>\n",
       "    <tr>\n",
       "      <th>Philippines</th>\n",
       "      <td>52</td>\n",
       "      <td>0.007605</td>\n",
       "    </tr>\n",
       "    <tr>\n",
       "      <th>Greece</th>\n",
       "      <td>46</td>\n",
       "      <td>0.006727</td>\n",
       "    </tr>\n",
       "    <tr>\n",
       "      <th>Ireland</th>\n",
       "      <td>43</td>\n",
       "      <td>0.006288</td>\n",
       "    </tr>\n",
       "    <tr>\n",
       "      <th>South Africa</th>\n",
       "      <td>39</td>\n",
       "      <td>0.005703</td>\n",
       "    </tr>\n",
       "    <tr>\n",
       "      <th>Mexico</th>\n",
       "      <td>37</td>\n",
       "      <td>0.005411</td>\n",
       "    </tr>\n",
       "    <tr>\n",
       "      <th>Turkey</th>\n",
       "      <td>36</td>\n",
       "      <td>0.005265</td>\n",
       "    </tr>\n",
       "    <tr>\n",
       "      <th>Singapore</th>\n",
       "      <td>34</td>\n",
       "      <td>0.004972</td>\n",
       "    </tr>\n",
       "    <tr>\n",
       "      <th>Hungary</th>\n",
       "      <td>34</td>\n",
       "      <td>0.004972</td>\n",
       "    </tr>\n",
       "    <tr>\n",
       "      <th>New Zealand</th>\n",
       "      <td>33</td>\n",
       "      <td>0.004826</td>\n",
       "    </tr>\n",
       "    <tr>\n",
       "      <th>Argentina</th>\n",
       "      <td>32</td>\n",
       "      <td>0.004680</td>\n",
       "    </tr>\n",
       "    <tr>\n",
       "      <th>Croatia</th>\n",
       "      <td>32</td>\n",
       "      <td>0.004680</td>\n",
       "    </tr>\n",
       "    <tr>\n",
       "      <th>Pakistan</th>\n",
       "      <td>31</td>\n",
       "      <td>0.004533</td>\n",
       "    </tr>\n",
       "    <tr>\n",
       "      <th>Sweden</th>\n",
       "      <td>31</td>\n",
       "      <td>0.004533</td>\n",
       "    </tr>\n",
       "    <tr>\n",
       "      <th>...</th>\n",
       "      <td>...</td>\n",
       "      <td>...</td>\n",
       "    </tr>\n",
       "    <tr>\n",
       "      <th>Trinidad &amp; Tobago</th>\n",
       "      <td>1</td>\n",
       "      <td>0.000146</td>\n",
       "    </tr>\n",
       "    <tr>\n",
       "      <th>Nicaragua</th>\n",
       "      <td>1</td>\n",
       "      <td>0.000146</td>\n",
       "    </tr>\n",
       "    <tr>\n",
       "      <th>Cayman Islands</th>\n",
       "      <td>1</td>\n",
       "      <td>0.000146</td>\n",
       "    </tr>\n",
       "    <tr>\n",
       "      <th>Turkmenistan</th>\n",
       "      <td>1</td>\n",
       "      <td>0.000146</td>\n",
       "    </tr>\n",
       "    <tr>\n",
       "      <th>Aruba</th>\n",
       "      <td>1</td>\n",
       "      <td>0.000146</td>\n",
       "    </tr>\n",
       "    <tr>\n",
       "      <th>Samoa</th>\n",
       "      <td>1</td>\n",
       "      <td>0.000146</td>\n",
       "    </tr>\n",
       "    <tr>\n",
       "      <th>Vanuatu</th>\n",
       "      <td>1</td>\n",
       "      <td>0.000146</td>\n",
       "    </tr>\n",
       "    <tr>\n",
       "      <th>Angola</th>\n",
       "      <td>1</td>\n",
       "      <td>0.000146</td>\n",
       "    </tr>\n",
       "    <tr>\n",
       "      <th>Liberia</th>\n",
       "      <td>1</td>\n",
       "      <td>0.000146</td>\n",
       "    </tr>\n",
       "    <tr>\n",
       "      <th>Yemen</th>\n",
       "      <td>1</td>\n",
       "      <td>0.000146</td>\n",
       "    </tr>\n",
       "    <tr>\n",
       "      <th>Jordan</th>\n",
       "      <td>1</td>\n",
       "      <td>0.000146</td>\n",
       "    </tr>\n",
       "    <tr>\n",
       "      <th>Somalia</th>\n",
       "      <td>1</td>\n",
       "      <td>0.000146</td>\n",
       "    </tr>\n",
       "    <tr>\n",
       "      <th>Gibraltar</th>\n",
       "      <td>1</td>\n",
       "      <td>0.000146</td>\n",
       "    </tr>\n",
       "    <tr>\n",
       "      <th>Guadeloupe</th>\n",
       "      <td>1</td>\n",
       "      <td>0.000146</td>\n",
       "    </tr>\n",
       "    <tr>\n",
       "      <th>Mozambique</th>\n",
       "      <td>1</td>\n",
       "      <td>0.000146</td>\n",
       "    </tr>\n",
       "    <tr>\n",
       "      <th>Channel Islands</th>\n",
       "      <td>1</td>\n",
       "      <td>0.000146</td>\n",
       "    </tr>\n",
       "    <tr>\n",
       "      <th>Nambia</th>\n",
       "      <td>1</td>\n",
       "      <td>0.000146</td>\n",
       "    </tr>\n",
       "    <tr>\n",
       "      <th>Papua New Guinea</th>\n",
       "      <td>1</td>\n",
       "      <td>0.000146</td>\n",
       "    </tr>\n",
       "    <tr>\n",
       "      <th>Panama</th>\n",
       "      <td>1</td>\n",
       "      <td>0.000146</td>\n",
       "    </tr>\n",
       "    <tr>\n",
       "      <th>Qatar</th>\n",
       "      <td>1</td>\n",
       "      <td>0.000146</td>\n",
       "    </tr>\n",
       "    <tr>\n",
       "      <th>Guatemala</th>\n",
       "      <td>1</td>\n",
       "      <td>0.000146</td>\n",
       "    </tr>\n",
       "    <tr>\n",
       "      <th>Bolivia</th>\n",
       "      <td>1</td>\n",
       "      <td>0.000146</td>\n",
       "    </tr>\n",
       "    <tr>\n",
       "      <th>Cuba</th>\n",
       "      <td>1</td>\n",
       "      <td>0.000146</td>\n",
       "    </tr>\n",
       "    <tr>\n",
       "      <th>Cameroon</th>\n",
       "      <td>1</td>\n",
       "      <td>0.000146</td>\n",
       "    </tr>\n",
       "    <tr>\n",
       "      <th>Botswana</th>\n",
       "      <td>1</td>\n",
       "      <td>0.000146</td>\n",
       "    </tr>\n",
       "    <tr>\n",
       "      <th>Myanmar</th>\n",
       "      <td>1</td>\n",
       "      <td>0.000146</td>\n",
       "    </tr>\n",
       "    <tr>\n",
       "      <th>Kyrgyzstan</th>\n",
       "      <td>1</td>\n",
       "      <td>0.000146</td>\n",
       "    </tr>\n",
       "    <tr>\n",
       "      <th>Rwanda</th>\n",
       "      <td>1</td>\n",
       "      <td>0.000146</td>\n",
       "    </tr>\n",
       "    <tr>\n",
       "      <th>Anguilla</th>\n",
       "      <td>1</td>\n",
       "      <td>0.000146</td>\n",
       "    </tr>\n",
       "    <tr>\n",
       "      <th>Gambia</th>\n",
       "      <td>1</td>\n",
       "      <td>0.000146</td>\n",
       "    </tr>\n",
       "  </tbody>\n",
       "</table>\n",
       "<p>137 rows × 2 columns</p>\n",
       "</div>"
      ],
      "text/plain": [
       "                               absolute frequency  relative frequency\n",
       "United States of America                     3125            0.457005\n",
       "India                                         528            0.077216\n",
       "United Kingdom                                315            0.046066\n",
       "Canada                                        260            0.038023\n",
       "Poland                                        131            0.019158\n",
       "Brazil                                        129            0.018865\n",
       "Germany                                       125            0.018280\n",
       "Australia                                     112            0.016379\n",
       "Russia                                        102            0.014917\n",
       "Ukraine                                        89            0.013016\n",
       "Nigeria                                        84            0.012284\n",
       "Spain                                          77            0.011261\n",
       "France                                         75            0.010968\n",
       "Romania                                        71            0.010383\n",
       "Netherlands (Holland, Europe)                  65            0.009506\n",
       "Italy                                          62            0.009067\n",
       "Serbia                                         52            0.007605\n",
       "Philippines                                    52            0.007605\n",
       "Greece                                         46            0.006727\n",
       "Ireland                                        43            0.006288\n",
       "South Africa                                   39            0.005703\n",
       "Mexico                                         37            0.005411\n",
       "Turkey                                         36            0.005265\n",
       "Singapore                                      34            0.004972\n",
       "Hungary                                        34            0.004972\n",
       "New Zealand                                    33            0.004826\n",
       "Argentina                                      32            0.004680\n",
       "Croatia                                        32            0.004680\n",
       "Pakistan                                       31            0.004533\n",
       "Sweden                                         31            0.004533\n",
       "...                                           ...                 ...\n",
       "Trinidad & Tobago                               1            0.000146\n",
       "Nicaragua                                       1            0.000146\n",
       "Cayman Islands                                  1            0.000146\n",
       "Turkmenistan                                    1            0.000146\n",
       "Aruba                                           1            0.000146\n",
       "Samoa                                           1            0.000146\n",
       "Vanuatu                                         1            0.000146\n",
       "Angola                                          1            0.000146\n",
       "Liberia                                         1            0.000146\n",
       "Yemen                                           1            0.000146\n",
       "Jordan                                          1            0.000146\n",
       "Somalia                                         1            0.000146\n",
       "Gibraltar                                       1            0.000146\n",
       "Guadeloupe                                      1            0.000146\n",
       "Mozambique                                      1            0.000146\n",
       "Channel Islands                                 1            0.000146\n",
       "Nambia                                          1            0.000146\n",
       "Papua New Guinea                                1            0.000146\n",
       "Panama                                          1            0.000146\n",
       "Qatar                                           1            0.000146\n",
       "Guatemala                                       1            0.000146\n",
       "Bolivia                                         1            0.000146\n",
       "Cuba                                            1            0.000146\n",
       "Cameroon                                        1            0.000146\n",
       "Botswana                                        1            0.000146\n",
       "Myanmar                                         1            0.000146\n",
       "Kyrgyzstan                                      1            0.000146\n",
       "Rwanda                                          1            0.000146\n",
       "Anguilla                                        1            0.000146\n",
       "Gambia                                          1            0.000146\n",
       "\n",
       "[137 rows x 2 columns]"
      ]
     },
     "execution_count": 81,
     "metadata": {},
     "output_type": "execute_result"
    }
   ],
   "source": [
    "survey_cleaned = survey[survey['JobRoleInterest'].notnull()]\n",
    "country_abs_freq = survey_cleaned['CountryLive'].value_counts()\n",
    "country_rel_freq = survey_cleaned['CountryLive'].value_counts(normalize = True)\n",
    "pd.DataFrame(data = {'absolute frequency': country_abs_freq, 'relative frequency': country_rel_freq})"
   ]
  },
  {
   "cell_type": "code",
   "execution_count": 82,
   "metadata": {},
   "outputs": [
    {
     "name": "stderr",
     "output_type": "stream",
     "text": [
      "/dataquest/system/env/python3/lib/python3.4/site-packages/pandas/core/generic.py:4619: SettingWithCopyWarning: \n",
      "A value is trying to be set on a copy of a slice from a DataFrame\n",
      "\n",
      "See the caveats in the documentation: http://pandas.pydata.org/pandas-docs/stable/indexing.html#indexing-view-versus-copy\n",
      "  self._update_inplace(new_data)\n",
      "/dataquest/system/env/python3/lib/python3.4/site-packages/ipykernel/__main__.py:2: SettingWithCopyWarning: \n",
      "A value is trying to be set on a copy of a slice from a DataFrame.\n",
      "Try using .loc[row_indexer,col_indexer] = value instead\n",
      "\n",
      "See the caveats in the documentation: http://pandas.pydata.org/pandas-docs/stable/indexing.html#indexing-view-versus-copy\n",
      "  from ipykernel import kernelapp as app\n"
     ]
    },
    {
     "data": {
      "text/plain": [
       "675"
      ]
     },
     "execution_count": 82,
     "metadata": {},
     "output_type": "execute_result"
    }
   ],
   "source": [
    "survey_cleaned['MonthsProgramming'].replace(0, 1, inplace = True)\n",
    "survey_cleaned['MoneyPerMonth'] = survey_cleaned['MoneyForLearning'] / survey_cleaned['MonthsProgramming']\n",
    "survey_cleaned['MoneyPerMonth'].isnull().sum()"
   ]
  },
  {
   "cell_type": "code",
   "execution_count": 83,
   "metadata": {},
   "outputs": [],
   "source": [
    "survey_cleaned = survey_cleaned[survey_cleaned['MoneyPerMonth'].notnull()]\n",
    "survey_cleaned = survey_cleaned[survey_cleaned['CountryLive'].notnull()]\n",
    "survey_country = survey_cleaned.groupby('CountryLive').mean()\n",
    "big_4 = survey_cleaned[survey_cleaned['CountryLive'].str.contains('United States of America|India|United Kingdom|Canada')]"
   ]
  },
  {
   "cell_type": "code",
   "execution_count": 84,
   "metadata": {},
   "outputs": [
    {
     "name": "stderr",
     "output_type": "stream",
     "text": [
      "/dataquest/system/env/python3/lib/python3.4/site-packages/seaborn/categorical.py:454: FutureWarning: remove_na is deprecated and is a private function. Do not use.\n",
      "  box_data = remove_na(group_data)\n"
     ]
    },
    {
     "data": {
      "text/plain": [
       "<matplotlib.text.Text at 0x7f90be6e2358>"
      ]
     },
     "execution_count": 84,
     "metadata": {},
     "output_type": "execute_result"
    },
    {
     "data": {
      "image/png": "[encoded data removed]",
      "text/plain": [
       "<matplotlib.figure.Figure at 0x7f90bcb46c18>"
      ]
     },
     "metadata": {},
     "output_type": "display_data"
    }
   ],
   "source": [
    "import seaborn as sns\n",
    "sns.boxplot(y = 'MoneyPerMonth', x = 'CountryLive', data = big_4)\n",
    "plt.title('Money per Month per Country')"
   ]
  },
  {
   "cell_type": "code",
   "execution_count": 85,
   "metadata": {
    "collapsed": true
   },
   "outputs": [],
   "source": [
    "big_4 = big_4[big_4['MoneyPerMonth'] < 20000]"
   ]
  },
  {
   "cell_type": "code",
   "execution_count": 86,
   "metadata": {},
   "outputs": [
    {
     "data": {
      "text/plain": [
       "CountryLive\n",
       "Canada                      113.510961\n",
       "India                       135.100982\n",
       "United Kingdom               45.534443\n",
       "United States of America    183.800110\n",
       "Name: MoneyPerMonth, dtype: float64"
      ]
     },
     "execution_count": 86,
     "metadata": {},
     "output_type": "execute_result"
    }
   ],
   "source": [
    "countries_mean = big_4.groupby('CountryLive').mean()\n",
    "countries_mean['MoneyPerMonth']"
   ]
  },
  {
   "cell_type": "code",
   "execution_count": 87,
   "metadata": {},
   "outputs": [
    {
     "name": "stderr",
     "output_type": "stream",
     "text": [
      "/dataquest/system/env/python3/lib/python3.4/site-packages/seaborn/categorical.py:454: FutureWarning: remove_na is deprecated and is a private function. Do not use.\n",
      "  box_data = remove_na(group_data)\n"
     ]
    },
    {
     "data": {
      "text/plain": [
       "<matplotlib.axes._subplots.AxesSubplot at 0x7f90be3bd710>"
      ]
     },
     "execution_count": 87,
     "metadata": {},
     "output_type": "execute_result"
    },
    {
     "data": {
      "image/png": "[encoded data removed]",
      "text/plain": [
       "<matplotlib.figure.Figure at 0x7f90a67cac50>"
      ]
     },
     "metadata": {},
     "output_type": "display_data"
    }
   ],
   "source": [
    "sns.boxplot(y = 'MoneyPerMonth', x = 'CountryLive', data = big_4)"
   ]
  },
  {
   "cell_type": "code",
   "execution_count": 88,
   "metadata": {},
   "outputs": [],
   "source": [
    "big_4 = big_4.drop(big_4[(big_4['CountryLive'] == 'India') & (big_4['MoneyPerMonth'] >=2500)].index)\n",
    "big_4 = big_4.drop(big_4[(big_4['CountryLive'] == 'United States of America') & (big_4['MoneyPerMonth'] >= 6000)].index)\n",
    "big_4 = big_4.drop(big_4[(big_4['CountryLive'] == 'Canada') & (big_4['MoneyPerMonth'] >= 2500)].index)"
   ]
  },
  {
   "cell_type": "code",
   "execution_count": 89,
   "metadata": {},
   "outputs": [
    {
     "name": "stderr",
     "output_type": "stream",
     "text": [
      "/dataquest/system/env/python3/lib/python3.4/site-packages/seaborn/categorical.py:454: FutureWarning: remove_na is deprecated and is a private function. Do not use.\n",
      "  box_data = remove_na(group_data)\n"
     ]
    },
    {
     "data": {
      "text/plain": [
       "<matplotlib.axes._subplots.AxesSubplot at 0x7f90bf4f6eb8>"
      ]
     },
     "execution_count": 89,
     "metadata": {},
     "output_type": "execute_result"
    },
    {
     "data": {
      "image/png": "[encoded data removed]",
      "text/plain": [
       "<matplotlib.figure.Figure at 0x7f90be4edc88>"
      ]
     },
     "metadata": {},
     "output_type": "display_data"
    }
   ],
   "source": [
    "sns.boxplot(y = 'MoneyPerMonth', x = 'CountryLive', data = big_4)"
   ]
  },
  {
   "cell_type": "code",
   "execution_count": 90,
   "metadata": {},
   "outputs": [
    {
     "data": {
      "text/plain": [
       "CountryLive\n",
       "Canada                       93.065400\n",
       "India                        65.758763\n",
       "United Kingdom               45.534443\n",
       "United States of America    142.654608\n",
       "Name: MoneyPerMonth, dtype: float64"
      ]
     },
     "execution_count": 90,
     "metadata": {},
     "output_type": "execute_result"
    }
   ],
   "source": [
    "big_4.groupby('CountryLive').mean()['MoneyPerMonth']"
   ]
  },
  {
   "cell_type": "code",
   "execution_count": 91,
   "metadata": {},
   "outputs": [
    {
     "data": {
      "text/plain": [
       "United States of America    0.749679\n",
       "India                       0.117330\n",
       "United Kingdom              0.071630\n",
       "Canada                      0.061361\n",
       "Name: CountryLive, dtype: float64"
      ]
     },
     "execution_count": 91,
     "metadata": {},
     "output_type": "execute_result"
    }
   ],
   "source": [
    "big_4['CountryLive'].value_counts(normalize = True)"
   ]
  },
  {
   "cell_type": "markdown",
   "metadata": {},
   "source": [
    "US is the first target.\n",
    "India and Canada can be splitted as the second market."
   ]
  }
 ],
 "metadata": {
  "kernelspec": {
   "display_name": "Python 3",
   "language": "python",
   "name": "python3"
  },
  "language_info": {
   "codemirror_mode": {
    "name": "ipython",
    "version": 3
   },
   "file_extension": ".py",
   "mimetype": "text/x-python",
   "name": "python",
   "nbconvert_exporter": "python",
   "pygments_lexer": "ipython3",
   "version": "3.7.1"
  }
 },
 "nbformat": 4,
 "nbformat_minor": 2
}
